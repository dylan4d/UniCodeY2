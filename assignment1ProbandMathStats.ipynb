{
 "cells": [
  {
   "cell_type": "code",
   "execution_count": 87,
   "metadata": {},
   "outputs": [],
   "source": [
    "import random\n",
    "from math import comb"
   ]
  },
  {
   "cell_type": "code",
   "execution_count": 88,
   "metadata": {},
   "outputs": [
    {
     "name": "stdout",
     "output_type": "stream",
     "text": [
      "0.70020875\n",
      "0.70020875\n"
     ]
    }
   ],
   "source": [
    "counterAtoB = 0\n",
    "counterNotAtoC = 0\n",
    "runs = 4000000\n",
    "\n",
    "for i in range(runs):\n",
    "    options = ['not blocked', 'blocked']\n",
    "    ab1,ab2,bc1,bc2 = random.choices(options, weights = [0.7,0.3],k= 4)\n",
    "    if (bc1 and bc2) or (ab1 and ab2) == 'blocked':\n",
    "        counterNotAtoC += 1\n",
    "        if (ab1 or ab2) == 'not blocked':\n",
    "            counterAtoB += 1\n",
    "\n",
    "print(counterAtoB / counterNotAtoC)\n",
    "print(counterAtoB / runs)\n",
    "#none of the answers resemble this answer."
   ]
  },
  {
   "cell_type": "code",
   "execution_count": null,
   "metadata": {},
   "outputs": [],
   "source": []
  },
  {
   "cell_type": "code",
   "execution_count": null,
   "metadata": {},
   "outputs": [],
   "source": []
  },
  {
   "cell_type": "code",
   "execution_count": null,
   "metadata": {},
   "outputs": [],
   "source": []
  }
 ],
 "metadata": {
  "kernelspec": {
   "display_name": "Python 3",
   "language": "python",
   "name": "python3"
  },
  "language_info": {
   "codemirror_mode": {
    "name": "ipython",
    "version": 3
   },
   "file_extension": ".py",
   "mimetype": "text/x-python",
   "name": "python",
   "nbconvert_exporter": "python",
   "pygments_lexer": "ipython3",
   "version": "3.8.3"
  }
 },
 "nbformat": 4,
 "nbformat_minor": 4
}
